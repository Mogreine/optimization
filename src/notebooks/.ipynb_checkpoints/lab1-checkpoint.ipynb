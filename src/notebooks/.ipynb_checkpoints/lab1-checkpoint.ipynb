{
 "cells": [
  {
   "cell_type": "markdown",
   "metadata": {},
   "source": [
    "# Лабораторная работа №1\n",
    "Импортиртируем библиотеку `pandas` для обработки данных и загрузим данные в `Dataframe`."
   ]
  },
  {
   "cell_type": "code",
   "execution_count": 25,
   "metadata": {},
   "outputs": [
    {
     "name": "stdout",
     "output_type": "stream",
     "text": [
      "Data is loaded.\n"
     ]
    }
   ],
   "source": [
    "import pandas as pd\n",
    "\n",
    "data = pd.read_csv('../../data/titanic.csv')\n",
    "print('Data is loaded.')"
   ]
  },
  {
   "cell_type": "markdown",
   "metadata": {},
   "source": [
    "**Задание №1**\n",
    "Сколько мужчин / женщин было на борту?\n",
    "\n",
    "- 412 мужчин и 479 женщин\n",
    "- 314 мужчин и 577 женщин\n",
    "- 479 мужчин и 412 женщин\n",
    "- 577 мужчин и 314 женщин"
   ]
  },
  {
   "cell_type": "markdown",
   "metadata": {},
   "source": [
    "Выберем лишь те строки, у которых значение `Sex` равно 'male', т.е. только мужчин, а затем обратимся к 1 элементу поля `shape`, чтобы получить количество строк в таблице."
   ]
  },
  {
   "cell_type": "code",
   "execution_count": 26,
   "metadata": {},
   "outputs": [
    {
     "name": "stdout",
     "output_type": "stream",
     "text": [
      "question 1\n",
      "Men on a ship: 577, women: 314\n"
     ]
    }
   ],
   "source": [
    "print('question 1')\n",
    "men_number = data.loc[data['Sex'] == 'male', ['PassengerId']].shape[0]\n",
    "women_number = data.loc[data['Sex'] == 'female', ['PassengerId']].shape[0]\n",
    "print(f\"Men on a ship: {men_number}, women: {women_number}\")"
   ]
  },
  {
   "cell_type": "markdown",
   "metadata": {},
   "source": [
    "**Задание №2** Определите распределение функции `Pclass`. Теперь для мужчин и женщин отдельно. Сколько мужчин было на борту во 2 классе?\n",
    "- 104\n",
    "- 108\n",
    "- 112\n",
    "- 125"
   ]
  },
  {
   "cell_type": "markdown",
   "metadata": {},
   "source": [
    "Для начала найдем распределение `Pclass`: просто посчитаем количество людей каждого класса."
   ]
  },
  {
   "cell_type": "code",
   "execution_count": 27,
   "metadata": {},
   "outputs": [
    {
     "name": "stdout",
     "output_type": "stream",
     "text": [
      "question 2\n",
      "General class distribution:  [216, 184, 491]\n"
     ]
    }
   ],
   "source": [
    "print('question 2')\n",
    "classes = [1, 2, 3]\n",
    "general_distribution = [data.loc[data['Pclass'] == cl].shape[0] for cl in classes]\n",
    "print('General class distribution: ', general_distribution)"
   ]
  },
  {
   "cell_type": "markdown",
   "metadata": {},
   "source": [
    "Теперь посчитаем для мужчин и женщин отдельно. Для этого критерием для фильтрации строк будет не только `Pclass` но и `Sex`."
   ]
  },
  {
   "cell_type": "code",
   "execution_count": 28,
   "metadata": {},
   "outputs": [
    {
     "name": "stdout",
     "output_type": "stream",
     "text": [
      "Men class distribution: [122, 108, 347]\n",
      "Women class distribution: [94, 76, 144]\n"
     ]
    }
   ],
   "source": [
    "men_class_distribution = [data.loc[(data['Pclass'] == cl) & (data['Sex'] == 'male')].shape[0] for cl in classes]\n",
    "women_class_distribution = [data.loc[(data['Pclass'] == cl) & (data['Sex'] == 'female')].shape[0] for cl in classes]\n",
    "print(f'Men class distribution: {men_class_distribution}')\n",
    "print(f'Women class distribution: {women_class_distribution}')"
   ]
  },
  {
   "cell_type": "markdown",
   "metadata": {},
   "source": [
    "Для того, чтобы узнать сколько людей было во 2 классе воспользуемся найденным распределением."
   ]
  },
  {
   "cell_type": "code",
   "execution_count": 29,
   "metadata": {},
   "outputs": [
    {
     "name": "stdout",
     "output_type": "stream",
     "text": [
      "Men with 2 class: 108\n"
     ]
    }
   ],
   "source": [
    "print(f'Men with 2 class: {men_class_distribution[1]}')"
   ]
  },
  {
   "cell_type": "markdown",
   "metadata": {},
   "source": [
    "**Задание №3** Каковы медиана и стандартное отклонение `Fare`? Округлите до 2-х знаков после запятой.\n",
    "\n",
    "- медиана 14,45, стандартное отклонение 49,69\n",
    "- медиана 15,1, стандартное отклонение 12,15\n",
    "- медиана 13,15, стандартное отклонение 35,3\n",
    "- медиана 17,43, стандартное отклонение - 39,1."
   ]
  },
  {
   "cell_type": "markdown",
   "metadata": {},
   "source": [
    "Для подсчета медианы и стандартного отклонения воспользуемся методами `median` и `std` соответственно."
   ]
  },
  {
   "cell_type": "code",
   "execution_count": 30,
   "metadata": {},
   "outputs": [
    {
     "name": "stdout",
     "output_type": "stream",
     "text": [
      "question 3\n",
      "Fare median: 14.45, std: 49.69\n"
     ]
    }
   ],
   "source": [
    "print('question 3')\n",
    "fare_median = data['Fare'].median()\n",
    "fare_std = data['Fare'].std()\n",
    "print('Fare median: {:.2f}, std: {:.2f}'.format(fare_median, fare_std))"
   ]
  },
  {
   "cell_type": "markdown",
   "metadata": {},
   "source": [
    "**Задание №4** Правда ли, что средний возраст выживших людей выше, чем у пассажиров, которые в конечном итоге умерли?\n",
    "- Да\n",
    "- Нет"
   ]
  },
  {
   "cell_type": "markdown",
   "metadata": {},
   "source": [
    "Чтобы ответить на этот вопрос просто посчитаем средний возраст выживших и погибших и сравним. Среднее значение можно получить с помощью метода `mean`."
   ]
  },
  {
   "cell_type": "code",
   "execution_count": 31,
   "metadata": {},
   "outputs": [
    {
     "name": "stdout",
     "output_type": "stream",
     "text": [
      "question 4\n",
      "The survived's mean age: 28.34, dead's: 30.63\n",
      "Answer: false\n"
     ]
    }
   ],
   "source": [
    "print('question 4')\n",
    "survived_mean_age = data[data['Survived'] == 1]['Age'].mean()\n",
    "dead_mean_age = data[data['Survived'] == 0]['Age'].mean()\n",
    "print(\"The survived's mean age: {:.2f}, dead's: {:.2f}\".format(survived_mean_age, dead_mean_age))\n",
    "print('Answer: false')"
   ]
  },
  {
   "cell_type": "markdown",
   "metadata": {},
   "source": [
    "**Задание №5**\n",
    "Это правда, что пассажиры моложе 30 лет. выжили чаще, чем те, кому больше 60 лет. Каковы доли выживших людей среди молодых и пожилых людей?\n",
    "- 22,7% среди молодежи и 40,6% среди пожилых\n",
    "- 40,6% среди молодежи и 22,7% среди пожилых\n",
    "- 35,3% среди молодежи и 27,4% среди пожилых\n",
    "- 27,4% среди молодежи и 35,3% среди пожилых\n"
   ]
  },
  {
   "cell_type": "code",
   "execution_count": 32,
   "metadata": {},
   "outputs": [
    {
     "name": "stdout",
     "output_type": "stream",
     "text": [
      "question 5\n",
      "Alive among the young: 40.6%, among the old: 22.7%\n"
     ]
    }
   ],
   "source": [
    "print('question 5')\n",
    "all_young = data[data['Age'] < 30].shape[0]\n",
    "all_old = data[data['Age'] > 60].shape[0]\n",
    "alive_young = data[(data['Age'] < 30) & (data['Survived'] == 1)].shape[0]\n",
    "alive_old = data[(data['Age'] > 60) & (data['Survived'] == 1)].shape[0]\n",
    "\n",
    "print('Alive among the young: {:.1f}%, among the old: {:.1f}%'\n",
    "      .format(alive_young / all_young * 100, alive_old / all_old * 100))"
   ]
  },
  {
   "cell_type": "markdown",
   "metadata": {},
   "source": [
    "Как выяснилось, пассажиры младше 30 лет выживали чаще.\n",
    "\n",
    "**Задание №6** Правда ли, что женщины выживали чаще мужчин? Каковы доли выживших людей среди мужчин и женщин?\n",
    "- 30,2% среди мужчин и 46,2% среди женщин\n",
    "- 35,7% среди мужчин и 74,2% среди женщин\n",
    "- 21,1% среди мужчин и 46,2% среди женщин\n",
    "- 18,9% среди мужчин и 74,2% среди женщин\n"
   ]
  },
  {
   "cell_type": "code",
   "execution_count": 33,
   "metadata": {},
   "outputs": [
    {
     "name": "stdout",
     "output_type": "stream",
     "text": [
      "question 6\n",
      "Alive among men: 18.9%, among women: 74.2%\n"
     ]
    }
   ],
   "source": [
    "print('question 6')\n",
    "all_men = data[data['Sex'] == 'male'].shape[0]\n",
    "all_women = data[data['Sex'] == 'female'].shape[0]\n",
    "alive_men = data[(data['Sex'] == 'male') & (data['Survived'] == 1)].shape[0]\n",
    "alive_women = data[(data['Sex'] == 'female') & (data['Survived'] == 1)].shape[0]\n",
    "\n",
    "print('Alive among men: {:.1f}%, among women: {:.1f}%'\n",
    "      .format(alive_men / all_men * 100, alive_women / all_women * 100))"
   ]
  },
  {
   "cell_type": "markdown",
   "metadata": {},
   "source": [
    "Считая как и в прошлом пункте получаем, что женщины выживали гораздо чаще мужчин.\n",
    "\n",
    "**Задание №7** Какое имя наиболее популярно среди пассажиров мужского пола?\n",
    "- Charles\n",
    "- Thomas\n",
    "- William\n",
    "- John\n",
    "\n",
    "Для начала посмотрим, что содержится в поле `Name`, чтобы понять как взять оттуда именно имя, а не фамилию или что-то еще."
   ]
  },
  {
   "cell_type": "code",
   "execution_count": 34,
   "metadata": {},
   "outputs": [
    {
     "name": "stdout",
     "output_type": "stream",
     "text": [
      "question 7\n",
      "0            Braund, Mr. Owen Harris\n",
      "4           Allen, Mr. William Henry\n",
      "5                   Moran, Mr. James\n",
      "6            McCarthy, Mr. Timothy J\n",
      "7     Palsson, Master. Gosta Leonard\n",
      "12    Saundercock, Mr. William Henry\n",
      "13       Andersson, Mr. Anders Johan\n",
      "16              Rice, Master. Eugene\n",
      "17      Williams, Mr. Charles Eugene\n",
      "20              Fynney, Mr. Joseph J\n",
      "Name: Name, dtype: object\n"
     ]
    }
   ],
   "source": [
    "print('question 7')\n",
    "print(data.loc[data['Sex'] == 'male', 'Name'].head(10))"
   ]
  },
  {
   "cell_type": "markdown",
   "metadata": {},
   "source": [
    "По структуре понятно, что скорее всего сначала идет фамиия (Williams, Andersson, Palsson - точно являются фамилиями), затем \"Mr.\" или \"Master\", что интереса точно не представляют, а затем как минимум 1 слово: имя. Чтобы получить его напишем функцию \"find_name\", которая будет работать по следующему алгоритму:\n",
    "1. Разделить входную строку по точке - получится 2 части (как минимум), взять 2 часть;\n",
    "2. Убрать пробелы в конце и начале строки и разделить по пробелу;\n",
    "3. 1 слово и есть имя."
   ]
  },
  {
   "cell_type": "code",
   "execution_count": 35,
   "metadata": {},
   "outputs": [],
   "source": [
    "def find_name(name: str) -> str:\n",
    "    return name.split('.')[1].strip().split(' ')[0]"
   ]
  },
  {
   "cell_type": "markdown",
   "metadata": {},
   "source": [
    "Применим ко всем элементам столбца `Name` функцию \"find_name\" - это можно сделать с помощью метода `apply`. Далее сразу же вызовем метод `value_counts`, которая возвращает `Series` в котором индексы это уникальные значения (в нашем случае имена), а значения это количество этих уникальных значений в массиве (изначальном `Series`)."
   ]
  },
  {
   "cell_type": "code",
   "execution_count": 36,
   "metadata": {},
   "outputs": [
    {
     "name": "stdout",
     "output_type": "stream",
     "text": [
      "The most popular man name: William - 35\n"
     ]
    }
   ],
   "source": [
    "names = data[data['Sex'] == 'male']['Name'].apply(find_name).value_counts()\n",
    "print(f'The most popular man name: {names.index[0]} - {names[0]}')"
   ]
  },
  {
   "cell_type": "markdown",
   "metadata": {},
   "source": [
    "**Задание №8** Как средний возраст мужчин / женщин зависит от Pclass? Выберите все правильные утверждения:\n",
    "- В среднем мужчины 1 класса старше 40 лет\n",
    "- В среднем женщины 1 класса старше 40 лет\n",
    "- Мужчины всех классов в среднем старше, чем женщины того же класса\n",
    "- В среднем, пассажиры первого класса старше, чем пассажиры 2-го класса, которые старше, чем пассажиры 3-го класса.\n",
    "\n",
    "Будем по-очередно проверять все эти гипотезы. И в конце выведем ответ."
   ]
  },
  {
   "cell_type": "code",
   "execution_count": 37,
   "metadata": {},
   "outputs": [
    {
     "name": "stdout",
     "output_type": "stream",
     "text": [
      "question 8\n",
      "Mean age of men in 1 class: 41\n",
      "Mean age of women in 1 class: 34\n",
      "Mean age of men in each class:  [41, 30, 26]\n",
      "Mean age of women in each class:  [34, 28, 21]\n",
      "Mean age class-wise:  [38, 29, 25]\n",
      "Answers:  [True, False, True, True]\n"
     ]
    }
   ],
   "source": [
    "print('question 8')\n",
    "ans = [True] * 4\n",
    "men_cl1_mean_age = int(data[(data['Pclass'] == 1) & (data['Sex'] == 'male')]['Age'].mean())\n",
    "print(f'Mean age of men in 1 class: {men_cl1_mean_age}')\n",
    "ans[0] = men_cl1_mean_age > 40\n",
    "\n",
    "women_cl1_mean_age = int(data[(data['Pclass'] == 1) & (data['Sex'] == 'female')]['Age'].mean())\n",
    "print(f'Mean age of women in 1 class: {women_cl1_mean_age}')\n",
    "ans[1] = women_cl1_mean_age > 40\n",
    "\n",
    "classes = [1, 2, 3]\n",
    "men_mean_age = [int(data[(data['Pclass'] == cl) & (data['Sex'] == 'male')]['Age'].mean()) for cl in classes]\n",
    "women_mean_age = [int(data[(data['Pclass'] == cl) & (data['Sex'] == 'female')]['Age'].mean()) for cl in classes]\n",
    "print('Mean age of men in each class: ', men_mean_age)\n",
    "print('Mean age of women in each class: ', women_mean_age)\n",
    "sq3 = True\n",
    "for i in range(3):\n",
    "     sq3 = sq3 & (men_mean_age[i] > women_mean_age[i])\n",
    "ans[2] = sq3\n",
    "\n",
    "class_mean_age = [int(data[data['Pclass'] == cl]['Age'].mean()) for cl in classes]\n",
    "sq4 = class_mean_age[0] > class_mean_age[1] > class_mean_age[2]\n",
    "ans[3] = sq4\n",
    "print('Mean age class-wise: ', class_mean_age)\n",
    "\n",
    "print('Answers: ', ans)"
   ]
  },
  {
   "cell_type": "markdown",
   "metadata": {},
   "source": [
    "## Вывод\n",
    "В ходе выполнения лабораторной работы был проанализирован датасет `Titanic` с помощью библиотеки `pandas`. Были рассмотрены следующие возможности библиотеки:\n",
    "- создание `DataFrame` считывая данные из файла формата `csv`;\n",
    "- фильтрация даных на основе определенных условий;\n",
    "- вычисление статистических свойств величин (математическое ожидание, стандартное отклонение, минимальное, максимальное значение и др.)."
   ]
  },
  {
   "cell_type": "code",
   "execution_count": null,
   "metadata": {},
   "outputs": [],
   "source": []
  }
 ],
 "metadata": {
  "kernelspec": {
   "display_name": "Python 3",
   "language": "python",
   "name": "python3"
  },
  "language_info": {
   "codemirror_mode": {
    "name": "ipython",
    "version": 3
   },
   "file_extension": ".py",
   "mimetype": "text/x-python",
   "name": "python",
   "nbconvert_exporter": "python",
   "pygments_lexer": "ipython3",
   "version": "3.6.8"
  }
 },
 "nbformat": 4,
 "nbformat_minor": 4
}
