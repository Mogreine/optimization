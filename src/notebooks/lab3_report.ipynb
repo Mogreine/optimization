{
 "cells": [
  {
   "cell_type": "markdown",
   "metadata": {},
   "source": [
    "# Лабораторная работа №3\n",
    "## Задание\n",
    "1. Написать программу, которая разделяет исходную выборку на обучающую и тестовую (training set, test set). Использовать стандартные функции (train_test_split и др. нельзя).\n",
    "2. С использованием библиотеки scikit-learn обучить модель линейной регрессии по обучающей выборке.\n",
    "3. Проверить точность модели по тестовой выборке.\n",
    "4. Построить модель с использованием полиномиальной функции. Построить графики зависимости точности на обучающей и тестовой выборке от степени полиномиальной функции.\n",
    "5. Построить модель с использованием регуляризации. На основе экспериментов подобрать параметры для регуляризации. Построить графики зависимости точности модели на обучающей и тестовой выборках от коэффициента регуляризации.\n",
    "\n",
    "Данные: Cycle Power Plant Data Set.\n",
    "\n",
    "## Выполнение работы\n",
    "Как обычно импортируем нужные для работы библиотеки."
   ]
  },
  {
   "cell_type": "code",
   "execution_count": 158,
   "metadata": {},
   "outputs": [],
   "source": [
    "import numpy as np\n",
    "import pandas as pd\n",
    "import gc\n",
    "\n",
    "from typing import Tuple\n",
    "from numpy import random as rnd\n",
    "from matplotlib import pyplot as plt\n",
    "from sklearn.linear_model import LinearRegression, Lasso, Ridge\n",
    "from sklearn.metrics import r2_score\n",
    "from sklearn.preprocessing import PolynomialFeatures\n",
    "\n",
    "gc.enable()\n",
    "\n",
    "target_feature = 'PE'\n",
    "metric = r2_score\n",
    "data_set_name = 'Cycle Power Plant Data Set'"
   ]
  },
  {
   "cell_type": "markdown",
   "metadata": {},
   "source": [
    "### Пункт 1\n",
    "Необходимо написать свою фунцию для разделения данных. Опишем сигнатуру функции:\n",
    "- `X`, `y` - фичи и таргетные значения соответственно.\n",
    "- `train_size`, `test_size` - размеры тренировочной и тествой выборок соответственно. Для правильной работы функции `train_size` + `test_size` должна быть равна 1.\n",
    "- `seed` - начальное значение для генератора случайных чисел, необходимо для воспроизведения результата.\n",
    "\n",
    "Алгоритм работы функции достаточно прост:\n",
    "1. Проверка условия `train_size` + `test_size` = 1;\n",
    "2. Генерация случайной перестановки длинны равной количетсву строк во входном наборе.\n",
    "3. С помощью функции iloc делим данные на тестовую выборку и тренировочную."
   ]
  },
  {
   "cell_type": "code",
   "execution_count": 159,
   "metadata": {},
   "outputs": [],
   "source": [
    "def split_data(X: pd.DataFrame, y: pd.DataFrame, train_size: float = 0.8, test_size: float = 0.2,\n",
    "               seed: int = None) -> Tuple[pd.DataFrame, pd.DataFrame, pd.DataFrame, pd.DataFrame]:\n",
    "    assert(train_size + test_size <= 1), 'train size + test size must be equal to 1'\n",
    "    rnd.seed(seed)\n",
    "    seq_size = X.shape[0]\n",
    "    perm = rnd.permutation(seq_size)\n",
    "\n",
    "    train_samples = int(seq_size * train_size)\n",
    "\n",
    "    X_train = X.iloc[perm[:train_samples], :]\n",
    "    X_test = X.iloc[perm[train_samples:], :]\n",
    "\n",
    "    y_train = y.iloc[perm[:train_samples]]\n",
    "    y_test = y.iloc[perm[train_samples:]]\n",
    "\n",
    "    return X_train, y_train, X_test, y_test"
   ]
  },
  {
   "cell_type": "markdown",
   "metadata": {},
   "source": [
    "### Пункт 2-3\n",
    "Прочитаем данные и разделим их на тестовую и тренировочную выборку."
   ]
  },
  {
   "cell_type": "code",
   "execution_count": 160,
   "metadata": {},
   "outputs": [],
   "source": [
    "data = pd.read_excel('../../data/Folds5x2_pp.xlsx')\n",
    "target = data[target_feature]\n",
    "data.drop([target_feature], axis=1, inplace=True)\n",
    "\n",
    "X_train, y_train, X_test, y_test = split_data(data, target, train_size=0.7, test_size=0.3, seed=2)"
   ]
  },
  {
   "cell_type": "markdown",
   "metadata": {},
   "source": [
    "Создадим объект класса `LinearRegression` из библиотеки `sklearn`, который представляет реализацию линейной регрессии.\n",
    "С помощью функции `fit` произвдедем обучение модели, а с помощью `predict` предскажем значения для тестовой выборки."
   ]
  },
  {
   "cell_type": "code",
   "execution_count": 161,
   "metadata": {},
   "outputs": [],
   "source": [
    "model = LinearRegression(n_jobs=-1)\n",
    "model.fit(X_train, y_train)\n",
    "preds = model.predict(X_test)"
   ]
  },
  {
   "cell_type": "markdown",
   "metadata": {},
   "source": [
    "Чтобы оценить модель воспользуемся метрикой `r2_score`, ее выбор обосновывается тем, что возвращаемое значение $y\\in[-1,1]$ где 1 - означает идеальное соответствие данных, а -1 отсутствие кореляции вообще."
   ]
  },
  {
   "cell_type": "code",
   "execution_count": 162,
   "metadata": {},
   "outputs": [
    {
     "name": "stdout",
     "output_type": "stream",
     "text": [
      "Linear regression R2: 0.9260\n"
     ]
    }
   ],
   "source": [
    "result = metric(y_test, preds)\n",
    "print(f'Linear regression R2: {result:.4f}')"
   ]
  },
  {
   "cell_type": "markdown",
   "metadata": {},
   "source": [
    "Как можно видеть, даже самая простая линейная регрессия дает очень хороший результат, что можно объяснить простойтой данных (всего лишь 4 параметра) и завимости целевой пременной от них. Также можно предположить отсутсвие нелинейных зависимостей, проверим это в следующем пункте."
   ]
  },
  {
   "cell_type": "markdown",
   "metadata": {},
   "source": [
    "### Пункт 4\n",
    "Определим степени полиномов и создадим массивы данных для результатов метрики."
   ]
  },
  {
   "cell_type": "code",
   "execution_count": 173,
   "metadata": {},
   "outputs": [],
   "source": [
    "powers = [1, 2, 3, 4, 5, 6, 7, 8, 9]\n",
    "mae_train = [0] * len(powers)\n",
    "mae_test = [0] * len(powers)"
   ]
  },
  {
   "cell_type": "markdown",
   "metadata": {},
   "source": [
    "За создание полиноминальных параметров отвечает класс `PolynomialFeatures`. В конструктор передаем значение степени полинома, а чтобы получить новые данные используем функцию `fit_transform`.\n",
    "\n",
    "Теперь, разобравшись как получить полиноминальные парметры, начнем делать предсказания. В цикле будем создавать новые данные, обучать и предсказывать на них данные, записывая результат в созданные массивы."
   ]
  },
  {
   "cell_type": "code",
   "execution_count": 174,
   "metadata": {},
   "outputs": [
    {
     "name": "stdout",
     "output_type": "stream",
     "text": [
      "Polynomial regression 1 R2: 0.9260\n",
      "Polynomial regression 2 R2: 0.9345\n",
      "Polynomial regression 3 R2: 0.9368\n",
      "Polynomial regression 4 R2: 0.9385\n",
      "Polynomial regression 5 R2: 0.9414\n",
      "Polynomial regression 6 R2: 0.9403\n",
      "Polynomial regression 7 R2: 0.9413\n",
      "Polynomial regression 8 R2: 0.9341\n",
      "Polynomial regression 9 R2: 0.9058\n",
      "Best score: 0.9414\n"
     ]
    }
   ],
   "source": [
    "for i in range(len(powers)):\n",
    "    # Добавляем полиноминальные фичи\n",
    "    poly = PolynomialFeatures(powers[i])\n",
    "    X_train_poly = poly.fit_transform(X_train)\n",
    "    X_test_poly = poly.fit_transform(X_test)\n",
    "\n",
    "    model = LinearRegression(n_jobs=-1, normalize=True)\n",
    "    model.fit(X_train_poly, y_train)\n",
    "    \n",
    "    preds_test = model.predict(X_test_poly)\n",
    "    preds_train = model.predict(X_train_poly)\n",
    "    \n",
    "    result_test = metric(y_test, preds_test)\n",
    "    result_train = metric(y_train, preds_train)\n",
    "    print(f'Polynomial regression {powers[i]} R2: {result_test:.4f}')\n",
    "\n",
    "    mae_test[i] = result_test\n",
    "    mae_train[i] = result_train\n",
    "    del X_train_poly, X_test_poly, preds_test, preds_train\n",
    "    gc.collect()\n",
    "print(f'Best score: {np.amax(mae_test):.4f}')"
   ]
  },
  {
   "cell_type": "markdown",
   "metadata": {},
   "source": [
    "Теперь осталось лишь отрисовать графики зависимости точности модели от степени полинома."
   ]
  },
  {
   "cell_type": "code",
   "execution_count": 165,
   "metadata": {},
   "outputs": [
    {
     "data": {
      "image/png": "[encoded data removed]",
      "text/plain": [
       "<Figure size 432x288 with 1 Axes>"
      ]
     },
     "metadata": {
      "needs_background": "light"
     },
     "output_type": "display_data"
    }
   ],
   "source": [
    "# Рисуем графики\n",
    "train_line, = plt.plot(powers, mae_train, 'bo-', label='train R2')\n",
    "test_line, = plt.plot(powers, mae_test, 'ro-', label='test R2')\n",
    "\n",
    "plt.title('Зависимость R2 от степени полинома')\n",
    "plt.xlabel('Степень')\n",
    "plt.ylabel('R2')\n",
    "plt.legend(handles=[train_line, test_line])\n",
    "\n",
    "plt.show()"
   ]
  },
  {
   "cell_type": "markdown",
   "metadata": {},
   "source": [
    "Судя по графику, оптимальной (по точности) степенью полинома является 7 степень. Прирост точности не велик (0.0163), это подвержает гипотезу о отсутствии нелинейных зависимостей."
   ]
  },
  {
   "cell_type": "markdown",
   "metadata": {},
   "source": [
    "### Пункт 5\n",
    "Т.к. кореляция между параметрами и целевым значениям и так очень велико, то бессмысленно применять регуляризацию для линейной регрессии, поэтому будем использовать полиноминальные параметры."
   ]
  },
  {
   "cell_type": "code",
   "execution_count": 188,
   "metadata": {},
   "outputs": [
    {
     "name": "stderr",
     "output_type": "stream",
     "text": [
      "s:\\programs\\interpreters\\pythonenvs\\mlenv\\lib\\site-packages\\sklearn\\linear_model\\coordinate_descent.py:475: ConvergenceWarning: Objective did not converge. You might want to increase the number of iterations. Duality gap: 57485.035639830996, tolerance: 194.64713289993128\n",
      "  positive)\n"
     ]
    },
    {
     "name": "stdout",
     "output_type": "stream",
     "text": [
      "alpha: 1e-06, test r2: 0.9346\n"
     ]
    },
    {
     "name": "stderr",
     "output_type": "stream",
     "text": [
      "s:\\programs\\interpreters\\pythonenvs\\mlenv\\lib\\site-packages\\sklearn\\linear_model\\coordinate_descent.py:475: ConvergenceWarning: Objective did not converge. You might want to increase the number of iterations. Duality gap: 49342.930534802596, tolerance: 194.64713289993128\n",
      "  positive)\n"
     ]
    },
    {
     "name": "stdout",
     "output_type": "stream",
     "text": [
      "alpha: 1e-05, test r2: 0.9344\n"
     ]
    },
    {
     "name": "stderr",
     "output_type": "stream",
     "text": [
      "s:\\programs\\interpreters\\pythonenvs\\mlenv\\lib\\site-packages\\sklearn\\linear_model\\coordinate_descent.py:475: ConvergenceWarning: Objective did not converge. You might want to increase the number of iterations. Duality gap: 415.60520776915655, tolerance: 194.64713289993128\n",
      "  positive)\n"
     ]
    },
    {
     "name": "stdout",
     "output_type": "stream",
     "text": [
      "alpha: 0.0001, test r2: 0.9333\n",
      "alpha: 0.001, test r2: 0.9328\n",
      "best score: 0.9346\n"
     ]
    },
    {
     "data": {
      "image/png": "[encoded data removed]",
      "text/plain": [
       "<Figure size 432x288 with 1 Axes>"
      ]
     },
     "metadata": {
      "needs_background": "light"
     },
     "output_type": "display_data"
    }
   ],
   "source": [
    "poly = PolynomialFeatures(5)\n",
    "X_train_poly = poly.fit_transform(X_train)\n",
    "X_test_poly = poly.fit_transform(X_test)\n",
    "\n",
    "alpha = [1e-6, 1e-5, 1e-4, 1e-3]\n",
    "train_mae = [0] * len(alpha)\n",
    "test_mae = [0] * len(alpha)\n",
    "for i in range(len(alpha)):\n",
    "    model = Lasso(alpha=alpha[i], random_state=5, normalize=True)\n",
    "    model.fit(X_train_poly, y_train)\n",
    "\n",
    "    test_preds = model.predict(X_test_poly)\n",
    "    train_preds = model.predict(X_train_poly)\n",
    "\n",
    "    test_result = metric(y_test, test_preds)\n",
    "    train_result = metric(y_train, train_preds)\n",
    "\n",
    "    train_mae[i] = train_result\n",
    "    test_mae[i] = test_result\n",
    "    \n",
    "    print(f'alpha: {alpha[i]}, test r2: {test_result:.4f}')\n",
    "\n",
    "print(f'best score: {np.amax(test_mae):.4f}')\n",
    "\n",
    "train_line, = plt.plot(alpha, train_mae, 'bo-', label='train R2')\n",
    "test_line, = plt.plot(alpha, test_mae, 'ro-', label='test R2')\n",
    "\n",
    "plt.xlabel('alpha')\n",
    "plt.ylabel('R2')\n",
    "plt.title('Зависимость R2 от параметра регуляризации alpha')\n",
    "plt.legend(handles=[train_line, test_line])\n",
    "\n",
    "plt.show()"
   ]
  },
  {
   "cell_type": "markdown",
   "metadata": {},
   "source": [
    "## Вывод\n",
    "В ходе выполнения лабораторной работы были получены и закреплены следующие навыки:\n",
    "1. Разделение данных на тренировочную и тестовую выборки;\n",
    "2. Построение модели линейной регрессии;\n",
    "3. Построение модели полиноминальной регрессии;\n",
    "4. Построение модели полиноминальной регрессии с регуляризацией."
   ]
  },
  {
   "cell_type": "code",
   "execution_count": null,
   "metadata": {},
   "outputs": [],
   "source": []
  }
 ],
 "metadata": {
  "kernelspec": {
   "display_name": "Python 3",
   "language": "python",
   "name": "python3"
  },
  "language_info": {
   "codemirror_mode": {
    "name": "ipython",
    "version": 3
   },
   "file_extension": ".py",
   "mimetype": "text/x-python",
   "name": "python",
   "nbconvert_exporter": "python",
   "pygments_lexer": "ipython3",
   "version": "3.6.8"
  }
 },
 "nbformat": 4,
 "nbformat_minor": 2
}
